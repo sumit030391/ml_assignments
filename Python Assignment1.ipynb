{
 "cells": [
  {
   "cell_type": "code",
   "execution_count": 12,
   "metadata": {},
   "outputs": [],
   "source": [
    "## 1"
   ]
  },
  {
   "cell_type": "code",
   "execution_count": 14,
   "metadata": {},
   "outputs": [
    {
     "name": "stdout",
     "output_type": "stream",
     "text": [
      "start is: 2000, end is: 3200, devisible by: 7 and not a multiple of 5\n"
     ]
    },
    {
     "data": {
      "text/plain": [
       "'2002,2009,2016,2023,2037,2044,2051,2058,2072,2079,2086,2093,2107,2114,2121,2128,2142,2149,2156,2163,2177,2184,2191,2198,2212,2219,2226,2233,2247,2254,2261,2268,2282,2289,2296,2303,2317,2324,2331,2338,2352,2359,2366,2373,2387,2394,2401,2408,2422,2429,2436,2443,2457,2464,2471,2478,2492,2499,2506,2513,2527,2534,2541,2548,2562,2569,2576,2583,2597,2604,2611,2618,2632,2639,2646,2653,2667,2674,2681,2688,2702,2709,2716,2723,2737,2744,2751,2758,2772,2779,2786,2793,2807,2814,2821,2828,2842,2849,2856,2863,2877,2884,2891,2898,2912,2919,2926,2933,2947,2954,2961,2968,2982,2989,2996,3003,3017,3024,3031,3038,3052,3059,3066,3073,3087,3094,3101,3108,3122,3129,3136,3143,3157,3164,3171,3178,3192,3199'"
      ]
     },
     "execution_count": 14,
     "metadata": {},
     "output_type": "execute_result"
    }
   ],
   "source": [
    "def num_devisible_by_num(num_to_check, num_to_devide):\n",
    "    if num_to_check%num_to_devide == 0:\n",
    "        return True\n",
    "    else:\n",
    "        return False\n",
    "    \n",
    "def assignment_one(start,end,n_devisible,m_multiple):\n",
    "    i = start\n",
    "    print('start is: {}, end is: {}, devisible by: {} and not a multiple of {}'.format(i,end,n_devisible,m_multiple))\n",
    "    res = ''\n",
    "    while(i<=end):\n",
    "        if num_devisible_by_num(i,n_devisible) and not(num_devisible_by_num(i,m_multiple)):\n",
    "            #print(i,sep=',')\n",
    "            res = res + str(i) +','\n",
    "        i+=1\n",
    "    \n",
    "    return res\n",
    "\n",
    "result = assignment_one(2000,3200,7,5)[:-1]\n",
    "result"
   ]
  },
  {
   "cell_type": "code",
   "execution_count": 18,
   "metadata": {},
   "outputs": [],
   "source": [
    "## 2"
   ]
  },
  {
   "cell_type": "code",
   "execution_count": 19,
   "metadata": {},
   "outputs": [
    {
     "name": "stdout",
     "output_type": "stream",
     "text": [
      "Enter your First Name sumit\n",
      "Enter your Last Name kumar\n",
      "Ypur name is: sumit kumar\n"
     ]
    },
    {
     "data": {
      "text/plain": [
       "'ramuk timus'"
      ]
     },
     "execution_count": 19,
     "metadata": {},
     "output_type": "execute_result"
    }
   ],
   "source": [
    "def reverse_firstname_lastname():\n",
    "    fname=input('Enter your First Name ')\n",
    "    lname=input('Enter your Last Name ')    \n",
    "    name = fname + ' '+lname\n",
    "    print('Ypur name is: {}'.format(name))\n",
    "    rev_name = name[-1::-1]\n",
    "    return rev_name\n",
    "\n",
    "reverse_firstname_lastname()"
   ]
  },
  {
   "cell_type": "code",
   "execution_count": 17,
   "metadata": {},
   "outputs": [],
   "source": [
    "## 3"
   ]
  },
  {
   "cell_type": "code",
   "execution_count": 20,
   "metadata": {},
   "outputs": [
    {
     "name": "stdout",
     "output_type": "stream",
     "text": [
      "Volume of the spahere with radius 12 cm is: 6912.0\n"
     ]
    }
   ],
   "source": [
    "def sphere_volume(r):\n",
    "    pi = 21/7\n",
    "    return (4/3)* pi * (r**3)\n",
    "\n",
    "vol = sphere_volume(12)\n",
    "\n",
    "print ('Volume of the spahere with radius 12 cm is: {}'.format(vol))"
   ]
  },
  {
   "cell_type": "code",
   "execution_count": null,
   "metadata": {},
   "outputs": [],
   "source": []
  }
 ],
 "metadata": {
  "kernelspec": {
   "display_name": "Python 3",
   "language": "python",
   "name": "python3"
  },
  "language_info": {
   "codemirror_mode": {
    "name": "ipython",
    "version": 3
   },
   "file_extension": ".py",
   "mimetype": "text/x-python",
   "name": "python",
   "nbconvert_exporter": "python",
   "pygments_lexer": "ipython3",
   "version": "3.7.6"
  }
 },
 "nbformat": 4,
 "nbformat_minor": 4
}
