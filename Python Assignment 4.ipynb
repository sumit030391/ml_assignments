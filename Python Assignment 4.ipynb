{
 "cells": [
  {
   "cell_type": "code",
   "execution_count": 1,
   "metadata": {},
   "outputs": [],
   "source": [
    "## 1.1"
   ]
  },
  {
   "cell_type": "code",
   "execution_count": 57,
   "metadata": {},
   "outputs": [
    {
     "name": "stdout",
     "output_type": "stream",
     "text": [
      "Enter the lengths of traingle in meter seperated by comma 3,4,5\n",
      "semiperimeter is 6.0\n"
     ]
    },
    {
     "data": {
      "text/plain": [
       "6.0"
      ]
     },
     "execution_count": 57,
     "metadata": {},
     "output_type": "execute_result"
    }
   ],
   "source": [
    "class triangle_inputs():\n",
    "    \n",
    "    def get_inputs(self):\n",
    "        while True:\n",
    "            l = input('Enter the lengths of traingle in meter seperated by comma ').split(',')\n",
    "            if len(l) != 3:\n",
    "                print('Please enter three values')\n",
    "                continue\n",
    "            else:\n",
    "                break\n",
    "        return int(l[0]), int(l[1]), int(l[2])\n",
    "        \n",
    "class calc_area(triangle_inputs):\n",
    "    def calc_area(self):\n",
    "        a,b,c = self.get_inputs()\n",
    "\n",
    "        s  = (a+b+c)/2\n",
    "        print('semiperimeter is {}'.format(s))\n",
    "        \n",
    "        area = (s*(s-a)*(s-b)*(s-c))**0.5\n",
    "        \n",
    "        if (area > 0):\n",
    "            return area\n",
    "        else:\n",
    "            print('Triangle not possible with the side lengths you enterd')\n",
    "    \n",
    "calc_area = calc_area()\n",
    "\n",
    "calc_area.calc_area()"
   ]
  },
  {
   "cell_type": "code",
   "execution_count": 44,
   "metadata": {},
   "outputs": [
    {
     "name": "stdout",
     "output_type": "stream",
     "text": [
      "semiperimeter is 6.0\n"
     ]
    },
    {
     "data": {
      "text/plain": [
       "6.0"
      ]
     },
     "execution_count": 44,
     "metadata": {},
     "output_type": "execute_result"
    }
   ],
   "source": [
    "class triangle_inputs():\n",
    "    def __init__(self, a, b, c):\n",
    "        self.a = a\n",
    "        self.b = b\n",
    "        self.c = c       \n",
    "\n",
    "        \n",
    "class calc_area(triangle_inputs):\n",
    "    def calc_area(self):\n",
    "        a = self.a\n",
    "        b = self.b\n",
    "        c = self.c\n",
    "        \n",
    "        s  = (a+b+c)/2\n",
    "        print('semiperimeter is {}'.format(s))\n",
    "        \n",
    "        area = (s*(s-a)*(s-b)*(s-c))**0.5\n",
    "        \n",
    "        return area\n",
    "    \n",
    "calc_area = calc_area(3,4,5)\n",
    "calc_area.calc_area()"
   ]
  },
  {
   "cell_type": "code",
   "execution_count": 13,
   "metadata": {},
   "outputs": [],
   "source": [
    "## 1.2"
   ]
  },
  {
   "cell_type": "code",
   "execution_count": 15,
   "metadata": {},
   "outputs": [
    {
     "data": {
      "text/plain": [
       "['sumit', 'kumar', 'yadav']"
      ]
     },
     "execution_count": 15,
     "metadata": {},
     "output_type": "execute_result"
    }
   ],
   "source": [
    "def words_longer_than_n(words, n):\n",
    "    n_words=[]\n",
    "    for word in words:\n",
    "        if (len(word)>n):\n",
    "            n_words.append(word)\n",
    "    return n_words\n",
    "\n",
    "words_longer_than_n(['sumit', 'kumar','yadav','name','is'],4)"
   ]
  },
  {
   "cell_type": "code",
   "execution_count": 16,
   "metadata": {},
   "outputs": [],
   "source": [
    "## 2.1"
   ]
  },
  {
   "cell_type": "code",
   "execution_count": 18,
   "metadata": {},
   "outputs": [
    {
     "data": {
      "text/plain": [
       "[5, 5, 5, 4, 2]"
      ]
     },
     "execution_count": 18,
     "metadata": {},
     "output_type": "execute_result"
    }
   ],
   "source": [
    "def words_legth_mapping(words):\n",
    "    words_length=[]\n",
    "    for word in words:\n",
    "        words_length.append(len(word))\n",
    "    return words_length\n",
    "\n",
    "words_legth_mapping(['sumit', 'kumar','yadav','name','is'])"
   ]
  },
  {
   "cell_type": "code",
   "execution_count": 19,
   "metadata": {},
   "outputs": [],
   "source": [
    "# 2.2"
   ]
  },
  {
   "cell_type": "code",
   "execution_count": 22,
   "metadata": {},
   "outputs": [
    {
     "data": {
      "text/plain": [
       "True"
      ]
     },
     "execution_count": 22,
     "metadata": {},
     "output_type": "execute_result"
    }
   ],
   "source": [
    "def check_vowel(chr):\n",
    "    vowel=['a','e','i','o','u']\n",
    "    if chr in vowel:\n",
    "        return True\n",
    "    else:\n",
    "        return False\n",
    "\n",
    "check_vowel('o')"
   ]
  },
  {
   "cell_type": "code",
   "execution_count": null,
   "metadata": {},
   "outputs": [],
   "source": []
  }
 ],
 "metadata": {
  "kernelspec": {
   "display_name": "Python 3",
   "language": "python",
   "name": "python3"
  },
  "language_info": {
   "codemirror_mode": {
    "name": "ipython",
    "version": 3
   },
   "file_extension": ".py",
   "mimetype": "text/x-python",
   "name": "python",
   "nbconvert_exporter": "python",
   "pygments_lexer": "ipython3",
   "version": "3.7.6"
  }
 },
 "nbformat": 4,
 "nbformat_minor": 4
}
