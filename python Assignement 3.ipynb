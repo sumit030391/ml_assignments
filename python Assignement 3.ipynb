{
 "cells": [
  {
   "cell_type": "code",
   "execution_count": 1,
   "metadata": {},
   "outputs": [],
   "source": [
    "## 1"
   ]
  },
  {
   "cell_type": "code",
   "execution_count": 8,
   "metadata": {},
   "outputs": [
    {
     "data": {
      "text/plain": [
       "24"
      ]
     },
     "execution_count": 8,
     "metadata": {},
     "output_type": "execute_result"
    }
   ],
   "source": [
    "myfunc = lambda x,y:x*y\n",
    "\n",
    "mylist = list(range(1,5))\n",
    "\n",
    "def myreduce(myfunc,mylist):\n",
    "    num = mylist[0]\n",
    "    for ele in mylist[1:]:\n",
    "        num=myfunc(num,ele)\n",
    "        \n",
    "    return num\n",
    "\n",
    "myreduce(myfunc,mylist)"
   ]
  },
  {
   "cell_type": "code",
   "execution_count": 9,
   "metadata": {},
   "outputs": [],
   "source": [
    "## 2"
   ]
  },
  {
   "cell_type": "code",
   "execution_count": 13,
   "metadata": {},
   "outputs": [
    {
     "data": {
      "text/plain": [
       "[6, 7, 8, 9]"
      ]
     },
     "execution_count": 13,
     "metadata": {},
     "output_type": "execute_result"
    }
   ],
   "source": [
    "func = lambda x: x >5 and x < 10\n",
    "lst = list(range(1,15))\n",
    "\n",
    "def myfilter(func, lst):\n",
    "    n_lst=[]\n",
    "    for ele in lst:\n",
    "        if func(ele):\n",
    "            n_lst.append(ele)\n",
    "            \n",
    "    return n_lst\n",
    "\n",
    "myfilter(func, lst)"
   ]
  },
  {
   "cell_type": "code",
   "execution_count": 14,
   "metadata": {},
   "outputs": [],
   "source": [
    "## 3.a"
   ]
  },
  {
   "cell_type": "code",
   "execution_count": 26,
   "metadata": {},
   "outputs": [
    {
     "data": {
      "text/plain": [
       "['x', 'xx', 'xxx', 'xxxx', 'y', 'yy', 'yyy', 'yyyy', 'z', 'zz', 'zzz', 'zzzz']"
      ]
     },
     "execution_count": 26,
     "metadata": {},
     "output_type": "execute_result"
    }
   ],
   "source": [
    "lst = ['x','y','z'] \n",
    "n = 5\n",
    "\n",
    "def lst_comprehension_a(lst, n):\n",
    "    n_lst = []\n",
    "    for ele in lst:\n",
    "        i = 1\n",
    "        while (i < n):\n",
    "            n_lst.append(ele*i)\n",
    "            i+=1\n",
    "            \n",
    "    return n_lst\n",
    "\n",
    "lst_comprehension_a(lst, n)  "
   ]
  },
  {
   "cell_type": "code",
   "execution_count": 17,
   "metadata": {},
   "outputs": [],
   "source": [
    "## 3.b"
   ]
  },
  {
   "cell_type": "code",
   "execution_count": 27,
   "metadata": {},
   "outputs": [
    {
     "data": {
      "text/plain": [
       "['x', 'y', 'z', 'xx', 'yy', 'zz', 'xxx', 'yyy', 'zzz', 'xxxx', 'yyyy', 'zzzz']"
      ]
     },
     "execution_count": 27,
     "metadata": {},
     "output_type": "execute_result"
    }
   ],
   "source": [
    "lst = ['x','y','z'] \n",
    "n = 5\n",
    "def lst_comprehension_b(lst, n):\n",
    "    n_lst = []\n",
    "    i = 1\n",
    "    while (i <n):\n",
    "        for ele in lst:\n",
    "            n_lst.append(ele*i)\n",
    "        i+=1\n",
    "            \n",
    "    return n_lst\n",
    "\n",
    "lst_comprehension_b(lst, n)  "
   ]
  },
  {
   "cell_type": "code",
   "execution_count": 23,
   "metadata": {},
   "outputs": [],
   "source": [
    "## 3.c"
   ]
  },
  {
   "cell_type": "code",
   "execution_count": 9,
   "metadata": {},
   "outputs": [
    {
     "data": {
      "text/plain": [
       "[[2], [3], [4], [3], [4], [5], [4], [5], [6]]"
      ]
     },
     "execution_count": 9,
     "metadata": {},
     "output_type": "execute_result"
    }
   ],
   "source": [
    "start = 2\n",
    "n = 3\n",
    "def lst_comprehension_c(start, n):\n",
    "    n_lst = []\n",
    "    i = 1\n",
    "    while (i <= n):\n",
    "        num =start\n",
    "        j = 1\n",
    "        while (j <= n):\n",
    "            lst = []\n",
    "            lst.append(num)\n",
    "            n_lst.append(lst)\n",
    "            j+=1\n",
    "            num+=1\n",
    "        i+=1\n",
    "        start+=1\n",
    "            \n",
    "    return n_lst\n",
    "\n",
    "lst_comprehension_c(start, n)"
   ]
  },
  {
   "cell_type": "code",
   "execution_count": null,
   "metadata": {},
   "outputs": [],
   "source": [
    "## 3.d"
   ]
  },
  {
   "cell_type": "code",
   "execution_count": 13,
   "metadata": {},
   "outputs": [
    {
     "data": {
      "text/plain": [
       "[[2, 3, 4, 5], [3, 4, 5, 6], [4, 5, 6, 7], [5, 6, 7, 8]]"
      ]
     },
     "execution_count": 13,
     "metadata": {},
     "output_type": "execute_result"
    }
   ],
   "source": [
    "start = 2\n",
    "n = 4\n",
    "def lst_comprehension_d(start, n):\n",
    "    n_lst = []\n",
    "    i = 1\n",
    "    while (i <= n):\n",
    "        num =start\n",
    "        j = 1\n",
    "        lst = []\n",
    "        while (j <= n):\n",
    "            lst.append(num)\n",
    "            j+=1\n",
    "            num+=1\n",
    "        i+=1\n",
    "        start+=1\n",
    "        n_lst.append(lst)\n",
    "            \n",
    "    return n_lst\n",
    "\n",
    "lst_comprehension_d(start, n)"
   ]
  },
  {
   "cell_type": "code",
   "execution_count": null,
   "metadata": {},
   "outputs": [],
   "source": []
  }
 ],
 "metadata": {
  "kernelspec": {
   "display_name": "Python 3",
   "language": "python",
   "name": "python3"
  },
  "language_info": {
   "codemirror_mode": {
    "name": "ipython",
    "version": 3
   },
   "file_extension": ".py",
   "mimetype": "text/x-python",
   "name": "python",
   "nbconvert_exporter": "python",
   "pygments_lexer": "ipython3",
   "version": "3.7.6"
  }
 },
 "nbformat": 4,
 "nbformat_minor": 4
}
