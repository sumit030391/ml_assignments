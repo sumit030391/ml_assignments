{
 "cells": [
  {
   "cell_type": "code",
   "execution_count": 2,
   "metadata": {},
   "outputs": [],
   "source": [
    "import numpy as np"
   ]
  },
  {
   "cell_type": "code",
   "execution_count": 68,
   "metadata": {},
   "outputs": [
    {
     "name": "stdout",
     "output_type": "stream",
     "text": [
      "The vector to be passed is as below ..\n",
      "----------------------------------------\n",
      "[1 2 3 4 5]\n",
      "\n",
      "\n",
      "The result matrix is as below ..\n",
      "-----------------------------------\n",
      "[[  1   1   1   1   1]\n",
      " [  1   2   4   8  16]\n",
      " [  1   3   9  27  81]\n",
      " [  1   4  16  64   0]\n",
      " [  1   5  25 125 113]]\n"
     ]
    }
   ],
   "source": [
    "## 1\n",
    "def col_power_in_list(vec, increasing = False):\n",
    "    l = len(vec)\n",
    "    mt = np.zeros(shape=(l,l), dtype = np.int8)\n",
    "    for j in range(l):\n",
    "        for k in range(l):\n",
    "            mt[j,k]=vec[j]**k\n",
    "    return mt\n",
    "\n",
    "b = np.array(range(1,6))\n",
    "\n",
    "print('The vector to be passed is as below ..')\n",
    "print('-'*40)\n",
    "print(b)\n",
    "\n",
    "print('\\n')\n",
    "print('The result matrix is as below ..')\n",
    "print('-'*35)\n",
    "print(col_power_in_list(b))"
   ]
  },
  {
   "cell_type": "code",
   "execution_count": 69,
   "metadata": {},
   "outputs": [
    {
     "name": "stdout",
     "output_type": "stream",
     "text": [
      "The test vector to be passed is as below ..\n",
      "---------------------------------------------\n",
      "[3, 5, 7, 2, 8, 10, 11, 65, 72, 81, 99, 100, 150]\n",
      "\n",
      "\n",
      "The result moving average vector is as below ..\n",
      "--------------------------------------------------\n",
      "[4.25, 5.5, 6.75, 7.75, 23.5, 39.5, 57.25, 79.25, 88.0, 107.5, 87.25]\n"
     ]
    }
   ],
   "source": [
    "## 2\n",
    "\n",
    "def moving_avg(in_vec, window_size):\n",
    "    n = len(in_vec)\n",
    "    num_avg = (n - window_size + 1)\n",
    "    avg_vec = []\n",
    "    \n",
    "    for i in range(num_avg):\n",
    "        avg_vec.append(sum(in_vec[i:i+4])/4)\n",
    "        \n",
    "    return avg_vec\n",
    "\n",
    "print('The test vector to be passed is as below ..')\n",
    "print('-'*45)\n",
    "test_vec = [3, 5, 7, 2, 8, 10, 11, 65, 72, 81, 99, 100, 150]\n",
    "print(test_vec)\n",
    "\n",
    "print('\\n')\n",
    "print('The result moving average vector is as below ..')\n",
    "print('-'*50)\n",
    "print(moving_avg(test_vec, 3))"
   ]
  }
 ],
 "metadata": {
  "kernelspec": {
   "display_name": "Python 3",
   "language": "python",
   "name": "python3"
  },
  "language_info": {
   "codemirror_mode": {
    "name": "ipython",
    "version": 3
   },
   "file_extension": ".py",
   "mimetype": "text/x-python",
   "name": "python",
   "nbconvert_exporter": "python",
   "pygments_lexer": "ipython3",
   "version": "3.7.6"
  }
 },
 "nbformat": 4,
 "nbformat_minor": 4
}
